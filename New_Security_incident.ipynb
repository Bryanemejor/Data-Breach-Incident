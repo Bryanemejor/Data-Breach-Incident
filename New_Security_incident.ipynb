{
 "cells": [
  {
   "cell_type": "code",
   "execution_count": 1,
   "metadata": {},
   "outputs": [],
   "source": [
    "import pandas as pd"
   ]
  },
  {
   "cell_type": "code",
   "execution_count": 2,
   "metadata": {},
   "outputs": [],
   "source": [
    "df = pd.ExcelFile('/Users/guembeblessing/downloads/original_breach.xlsx') \n",
    "df1 = pd.read_excel(df, 'Malware')\n",
    "df2 = pd.read_excel(df, 'Paper Data only')\n",
    "df3 = pd.read_excel(df, 'Unauthorized Access only')\n",
    "df4 = pd.read_excel(df, 'Phishing')\n",
    "df5 = pd.read_excel(df, 'Physical')\n",
    "df6 = pd.read_excel(df, 'Ransomware')\n",
    "df7 = pd.read_excel(df, 'SQL Injection')\n",
    "df8 = pd.read_excel(df, 'Unknown only')\n",
    "main_data = pd.read_excel(df, 'Main')\n",
    "sheet_one = pd.read_excel(df,'Sheet1')"
   ]
  },
  {
   "cell_type": "code",
   "execution_count": 3,
   "metadata": {},
   "outputs": [
    {
     "data": {
      "text/html": [
       "<div>\n",
       "<style scoped>\n",
       "    .dataframe tbody tr th:only-of-type {\n",
       "        vertical-align: middle;\n",
       "    }\n",
       "\n",
       "    .dataframe tbody tr th {\n",
       "        vertical-align: top;\n",
       "    }\n",
       "\n",
       "    .dataframe thead th {\n",
       "        text-align: right;\n",
       "    }\n",
       "</style>\n",
       "<table border=\"1\" class=\"dataframe\">\n",
       "  <thead>\n",
       "    <tr style=\"text-align: right;\">\n",
       "      <th></th>\n",
       "      <th>Date of Breach</th>\n",
       "      <th>State</th>\n",
       "      <th>Method of Breach</th>\n",
       "      <th>Cause</th>\n",
       "      <th>Affected Industry</th>\n",
       "      <th>Number of Affected</th>\n",
       "    </tr>\n",
       "  </thead>\n",
       "  <tbody>\n",
       "    <tr>\n",
       "      <th>0</th>\n",
       "      <td>NaN</td>\n",
       "      <td>NaN</td>\n",
       "      <td>Malware</td>\n",
       "      <td>third party apps</td>\n",
       "      <td>NaN</td>\n",
       "      <td>unknown</td>\n",
       "    </tr>\n",
       "    <tr>\n",
       "      <th>1</th>\n",
       "      <td>NaN</td>\n",
       "      <td>NaN</td>\n",
       "      <td>Malware</td>\n",
       "      <td>third party apps</td>\n",
       "      <td>NaN</td>\n",
       "      <td>unknown</td>\n",
       "    </tr>\n",
       "    <tr>\n",
       "      <th>2</th>\n",
       "      <td>NaN</td>\n",
       "      <td>NaN</td>\n",
       "      <td>Malware</td>\n",
       "      <td>third party apps</td>\n",
       "      <td>NaN</td>\n",
       "      <td>40000000</td>\n",
       "    </tr>\n",
       "    <tr>\n",
       "      <th>3</th>\n",
       "      <td>NaN</td>\n",
       "      <td>NaN</td>\n",
       "      <td>Malware</td>\n",
       "      <td>third party apps</td>\n",
       "      <td>NaN</td>\n",
       "      <td>5300</td>\n",
       "    </tr>\n",
       "    <tr>\n",
       "      <th>4</th>\n",
       "      <td>NaN</td>\n",
       "      <td>NaN</td>\n",
       "      <td>Malware</td>\n",
       "      <td>third party apps</td>\n",
       "      <td>NaN</td>\n",
       "      <td>9200</td>\n",
       "    </tr>\n",
       "  </tbody>\n",
       "</table>\n",
       "</div>"
      ],
      "text/plain": [
       "   Date of Breach  State Method of Breach             Cause  \\\n",
       "0             NaN    NaN          Malware  third party apps   \n",
       "1             NaN    NaN          Malware  third party apps   \n",
       "2             NaN    NaN          Malware  third party apps   \n",
       "3             NaN    NaN          Malware  third party apps   \n",
       "4             NaN    NaN          Malware  third party apps   \n",
       "\n",
       "   Affected Industry Number of Affected  \n",
       "0                NaN            unknown  \n",
       "1                NaN            unknown  \n",
       "2                NaN           40000000  \n",
       "3                NaN               5300  \n",
       "4                NaN               9200  "
      ]
     },
     "execution_count": 3,
     "metadata": {},
     "output_type": "execute_result"
    }
   ],
   "source": [
    "df1.head()"
   ]
  },
  {
   "cell_type": "code",
   "execution_count": 4,
   "metadata": {},
   "outputs": [
    {
     "data": {
      "text/html": [
       "<div>\n",
       "<style scoped>\n",
       "    .dataframe tbody tr th:only-of-type {\n",
       "        vertical-align: middle;\n",
       "    }\n",
       "\n",
       "    .dataframe tbody tr th {\n",
       "        vertical-align: top;\n",
       "    }\n",
       "\n",
       "    .dataframe thead th {\n",
       "        text-align: right;\n",
       "    }\n",
       "</style>\n",
       "<table border=\"1\" class=\"dataframe\">\n",
       "  <thead>\n",
       "    <tr style=\"text-align: right;\">\n",
       "      <th></th>\n",
       "      <th>Date of Breach</th>\n",
       "      <th>State</th>\n",
       "      <th>Method</th>\n",
       "      <th>Cause</th>\n",
       "      <th>Affected Industry</th>\n",
       "      <th>Number of Records</th>\n",
       "    </tr>\n",
       "  </thead>\n",
       "  <tbody>\n",
       "    <tr>\n",
       "      <th>0</th>\n",
       "      <td>10-22-19</td>\n",
       "      <td>TX</td>\n",
       "      <td>Paper Data</td>\n",
       "      <td>loopholes</td>\n",
       "      <td>health</td>\n",
       "      <td>3784</td>\n",
       "    </tr>\n",
       "    <tr>\n",
       "      <th>1</th>\n",
       "      <td>10-22-19</td>\n",
       "      <td>TX</td>\n",
       "      <td>Paper Data</td>\n",
       "      <td>loopholes</td>\n",
       "      <td>health</td>\n",
       "      <td>2113</td>\n",
       "    </tr>\n",
       "    <tr>\n",
       "      <th>2</th>\n",
       "      <td>10-22-19</td>\n",
       "      <td>TX</td>\n",
       "      <td>Paper Data</td>\n",
       "      <td>loopholes</td>\n",
       "      <td>health</td>\n",
       "      <td>6688</td>\n",
       "    </tr>\n",
       "    <tr>\n",
       "      <th>3</th>\n",
       "      <td>10-25-19</td>\n",
       "      <td>OH</td>\n",
       "      <td>Paper Data</td>\n",
       "      <td>loopholes</td>\n",
       "      <td>health</td>\n",
       "      <td>4812</td>\n",
       "    </tr>\n",
       "    <tr>\n",
       "      <th>4</th>\n",
       "      <td>12-16-19</td>\n",
       "      <td>TX</td>\n",
       "      <td>Paper Data</td>\n",
       "      <td>loopholes</td>\n",
       "      <td>health</td>\n",
       "      <td>597</td>\n",
       "    </tr>\n",
       "  </tbody>\n",
       "</table>\n",
       "</div>"
      ],
      "text/plain": [
       "  Date of Breach State      Method      Cause Affected Industry  \\\n",
       "0       10-22-19    TX  Paper Data  loopholes            health   \n",
       "1       10-22-19    TX  Paper Data  loopholes            health   \n",
       "2       10-22-19    TX  Paper Data  loopholes            health   \n",
       "3       10-25-19    OH  Paper Data  loopholes            health   \n",
       "4       12-16-19    TX  Paper Data  loopholes            health   \n",
       "\n",
       "  Number of Records  \n",
       "0              3784  \n",
       "1              2113  \n",
       "2              6688  \n",
       "3              4812  \n",
       "4               597  "
      ]
     },
     "execution_count": 4,
     "metadata": {},
     "output_type": "execute_result"
    }
   ],
   "source": [
    "df2.head()"
   ]
  },
  {
   "cell_type": "code",
   "execution_count": 5,
   "metadata": {},
   "outputs": [
    {
     "data": {
      "text/html": [
       "<div>\n",
       "<style scoped>\n",
       "    .dataframe tbody tr th:only-of-type {\n",
       "        vertical-align: middle;\n",
       "    }\n",
       "\n",
       "    .dataframe tbody tr th {\n",
       "        vertical-align: top;\n",
       "    }\n",
       "\n",
       "    .dataframe thead th {\n",
       "        text-align: right;\n",
       "    }\n",
       "</style>\n",
       "<table border=\"1\" class=\"dataframe\">\n",
       "  <thead>\n",
       "    <tr style=\"text-align: right;\">\n",
       "      <th></th>\n",
       "      <th>Date of Breach</th>\n",
       "      <th>State</th>\n",
       "      <th>Method</th>\n",
       "      <th>Cause</th>\n",
       "      <th>Affected Industry</th>\n",
       "      <th>Number of Records</th>\n",
       "    </tr>\n",
       "  </thead>\n",
       "  <tbody>\n",
       "    <tr>\n",
       "      <th>0</th>\n",
       "      <td>44384</td>\n",
       "      <td>NC</td>\n",
       "      <td>Unauthorized Access</td>\n",
       "      <td>Disclosure</td>\n",
       "      <td>health</td>\n",
       "      <td>978</td>\n",
       "    </tr>\n",
       "    <tr>\n",
       "      <th>1</th>\n",
       "      <td>44383</td>\n",
       "      <td>KY</td>\n",
       "      <td>Unauthorized Access</td>\n",
       "      <td>Disclosure</td>\n",
       "      <td>health</td>\n",
       "      <td>42465</td>\n",
       "    </tr>\n",
       "    <tr>\n",
       "      <th>2</th>\n",
       "      <td>05/19/2021</td>\n",
       "      <td>TX</td>\n",
       "      <td>Unauthorized Access</td>\n",
       "      <td>Disclosure</td>\n",
       "      <td>health</td>\n",
       "      <td>2489</td>\n",
       "    </tr>\n",
       "    <tr>\n",
       "      <th>3</th>\n",
       "      <td>04/15/2021</td>\n",
       "      <td>FL</td>\n",
       "      <td>Unauthorized Access</td>\n",
       "      <td>Disclosure</td>\n",
       "      <td>health</td>\n",
       "      <td>846</td>\n",
       "    </tr>\n",
       "    <tr>\n",
       "      <th>4</th>\n",
       "      <td>03/24/2021</td>\n",
       "      <td>CA</td>\n",
       "      <td>Unauthorized Access</td>\n",
       "      <td>Disclosure</td>\n",
       "      <td>health</td>\n",
       "      <td>645</td>\n",
       "    </tr>\n",
       "  </tbody>\n",
       "</table>\n",
       "</div>"
      ],
      "text/plain": [
       "  Date of Breach State               Method       Cause Affected Industry  \\\n",
       "0          44384    NC  Unauthorized Access  Disclosure            health   \n",
       "1          44383    KY  Unauthorized Access  Disclosure            health   \n",
       "2     05/19/2021    TX  Unauthorized Access  Disclosure            health   \n",
       "3     04/15/2021    FL  Unauthorized Access  Disclosure            health   \n",
       "4     03/24/2021    CA  Unauthorized Access  Disclosure            health   \n",
       "\n",
       "   Number of Records  \n",
       "0                978  \n",
       "1              42465  \n",
       "2               2489  \n",
       "3                846  \n",
       "4                645  "
      ]
     },
     "execution_count": 5,
     "metadata": {},
     "output_type": "execute_result"
    }
   ],
   "source": [
    "df3.head()"
   ]
  },
  {
   "cell_type": "code",
   "execution_count": 6,
   "metadata": {},
   "outputs": [
    {
     "data": {
      "text/html": [
       "<div>\n",
       "<style scoped>\n",
       "    .dataframe tbody tr th:only-of-type {\n",
       "        vertical-align: middle;\n",
       "    }\n",
       "\n",
       "    .dataframe tbody tr th {\n",
       "        vertical-align: top;\n",
       "    }\n",
       "\n",
       "    .dataframe thead th {\n",
       "        text-align: right;\n",
       "    }\n",
       "</style>\n",
       "<table border=\"1\" class=\"dataframe\">\n",
       "  <thead>\n",
       "    <tr style=\"text-align: right;\">\n",
       "      <th></th>\n",
       "      <th>Date of Breach</th>\n",
       "      <th>Unnamed: 1</th>\n",
       "      <th>Method of Breach</th>\n",
       "      <th>Cause</th>\n",
       "      <th>Affected Industry</th>\n",
       "      <th>Number of Affected</th>\n",
       "    </tr>\n",
       "  </thead>\n",
       "  <tbody>\n",
       "    <tr>\n",
       "      <th>0</th>\n",
       "      <td>NaN</td>\n",
       "      <td>NaN</td>\n",
       "      <td>Phishing</td>\n",
       "      <td>intrusion</td>\n",
       "      <td>NaN</td>\n",
       "      <td>500</td>\n",
       "    </tr>\n",
       "    <tr>\n",
       "      <th>1</th>\n",
       "      <td>NaN</td>\n",
       "      <td>NaN</td>\n",
       "      <td>Phishing</td>\n",
       "      <td>loopholes</td>\n",
       "      <td>NaN</td>\n",
       "      <td>unknown</td>\n",
       "    </tr>\n",
       "    <tr>\n",
       "      <th>2</th>\n",
       "      <td>NaN</td>\n",
       "      <td>NaN</td>\n",
       "      <td>Phishing</td>\n",
       "      <td>loopholes</td>\n",
       "      <td>NaN</td>\n",
       "      <td>259</td>\n",
       "    </tr>\n",
       "    <tr>\n",
       "      <th>3</th>\n",
       "      <td>NaN</td>\n",
       "      <td>NaN</td>\n",
       "      <td>Phishing</td>\n",
       "      <td>hackers</td>\n",
       "      <td>NaN</td>\n",
       "      <td>unknown</td>\n",
       "    </tr>\n",
       "    <tr>\n",
       "      <th>4</th>\n",
       "      <td>NaN</td>\n",
       "      <td>NaN</td>\n",
       "      <td>Phishing</td>\n",
       "      <td>loopholes</td>\n",
       "      <td>NaN</td>\n",
       "      <td>55000</td>\n",
       "    </tr>\n",
       "  </tbody>\n",
       "</table>\n",
       "</div>"
      ],
      "text/plain": [
       "   Date of Breach  Unnamed: 1 Method of Breach      Cause  Affected Industry  \\\n",
       "0             NaN         NaN         Phishing  intrusion                NaN   \n",
       "1             NaN         NaN         Phishing  loopholes                NaN   \n",
       "2             NaN         NaN         Phishing  loopholes                NaN   \n",
       "3             NaN         NaN         Phishing    hackers                NaN   \n",
       "4             NaN         NaN         Phishing  loopholes                NaN   \n",
       "\n",
       "  Number of Affected  \n",
       "0                500  \n",
       "1            unknown  \n",
       "2                259  \n",
       "3            unknown  \n",
       "4              55000  "
      ]
     },
     "execution_count": 6,
     "metadata": {},
     "output_type": "execute_result"
    }
   ],
   "source": [
    "df4.head()"
   ]
  },
  {
   "cell_type": "code",
   "execution_count": 7,
   "metadata": {},
   "outputs": [
    {
     "data": {
      "text/html": [
       "<div>\n",
       "<style scoped>\n",
       "    .dataframe tbody tr th:only-of-type {\n",
       "        vertical-align: middle;\n",
       "    }\n",
       "\n",
       "    .dataframe tbody tr th {\n",
       "        vertical-align: top;\n",
       "    }\n",
       "\n",
       "    .dataframe thead th {\n",
       "        text-align: right;\n",
       "    }\n",
       "</style>\n",
       "<table border=\"1\" class=\"dataframe\">\n",
       "  <thead>\n",
       "    <tr style=\"text-align: right;\">\n",
       "      <th></th>\n",
       "      <th>Date of Breach</th>\n",
       "      <th>State</th>\n",
       "      <th>Method of Breach</th>\n",
       "      <th>Cause</th>\n",
       "      <th>Affected Industry</th>\n",
       "      <th>Number of Affected</th>\n",
       "    </tr>\n",
       "  </thead>\n",
       "  <tbody>\n",
       "    <tr>\n",
       "      <th>0</th>\n",
       "      <td>NaN</td>\n",
       "      <td>NaN</td>\n",
       "      <td>Physical</td>\n",
       "      <td>intrusion</td>\n",
       "      <td>NaN</td>\n",
       "      <td>300000</td>\n",
       "    </tr>\n",
       "    <tr>\n",
       "      <th>1</th>\n",
       "      <td>NaN</td>\n",
       "      <td>NaN</td>\n",
       "      <td>Physical</td>\n",
       "      <td>intrusion</td>\n",
       "      <td>NaN</td>\n",
       "      <td>200</td>\n",
       "    </tr>\n",
       "    <tr>\n",
       "      <th>2</th>\n",
       "      <td>NaN</td>\n",
       "      <td>NaN</td>\n",
       "      <td>Physical</td>\n",
       "      <td>intrusion</td>\n",
       "      <td>NaN</td>\n",
       "      <td>100000</td>\n",
       "    </tr>\n",
       "    <tr>\n",
       "      <th>3</th>\n",
       "      <td>NaN</td>\n",
       "      <td>NaN</td>\n",
       "      <td>Physical</td>\n",
       "      <td>intrusion</td>\n",
       "      <td>NaN</td>\n",
       "      <td>36000</td>\n",
       "    </tr>\n",
       "    <tr>\n",
       "      <th>4</th>\n",
       "      <td>NaN</td>\n",
       "      <td>NaN</td>\n",
       "      <td>Physical</td>\n",
       "      <td>intrusion</td>\n",
       "      <td>NaN</td>\n",
       "      <td>unknown</td>\n",
       "    </tr>\n",
       "  </tbody>\n",
       "</table>\n",
       "</div>"
      ],
      "text/plain": [
       "   Date of Breach  State Method of Breach      Cause  Affected Industry  \\\n",
       "0             NaN    NaN        Physical   intrusion                NaN   \n",
       "1             NaN    NaN        Physical   intrusion                NaN   \n",
       "2             NaN    NaN        Physical   intrusion                NaN   \n",
       "3             NaN    NaN        Physical   intrusion                NaN   \n",
       "4             NaN    NaN        Physical   intrusion                NaN   \n",
       "\n",
       "  Number of Affected  \n",
       "0             300000  \n",
       "1                200  \n",
       "2             100000  \n",
       "3              36000  \n",
       "4            unknown  "
      ]
     },
     "execution_count": 7,
     "metadata": {},
     "output_type": "execute_result"
    }
   ],
   "source": [
    "df5.head()"
   ]
  },
  {
   "cell_type": "code",
   "execution_count": 8,
   "metadata": {},
   "outputs": [
    {
     "data": {
      "text/html": [
       "<div>\n",
       "<style scoped>\n",
       "    .dataframe tbody tr th:only-of-type {\n",
       "        vertical-align: middle;\n",
       "    }\n",
       "\n",
       "    .dataframe tbody tr th {\n",
       "        vertical-align: top;\n",
       "    }\n",
       "\n",
       "    .dataframe thead th {\n",
       "        text-align: right;\n",
       "    }\n",
       "</style>\n",
       "<table border=\"1\" class=\"dataframe\">\n",
       "  <thead>\n",
       "    <tr style=\"text-align: right;\">\n",
       "      <th></th>\n",
       "      <th>Date of Breach</th>\n",
       "      <th>State</th>\n",
       "      <th>Method of Breach</th>\n",
       "      <th>Cause</th>\n",
       "      <th>Affected Industry</th>\n",
       "      <th>Number of Affected</th>\n",
       "    </tr>\n",
       "  </thead>\n",
       "  <tbody>\n",
       "    <tr>\n",
       "      <th>0</th>\n",
       "      <td>NaN</td>\n",
       "      <td>NaN</td>\n",
       "      <td>Ransomware</td>\n",
       "      <td>third party apps</td>\n",
       "      <td>NaN</td>\n",
       "      <td>770760</td>\n",
       "    </tr>\n",
       "    <tr>\n",
       "      <th>1</th>\n",
       "      <td>NaN</td>\n",
       "      <td>NaN</td>\n",
       "      <td>Ransomware</td>\n",
       "      <td>third party apps</td>\n",
       "      <td>NaN</td>\n",
       "      <td>150000</td>\n",
       "    </tr>\n",
       "    <tr>\n",
       "      <th>2</th>\n",
       "      <td>NaN</td>\n",
       "      <td>NaN</td>\n",
       "      <td>Ransomware</td>\n",
       "      <td>third party apps</td>\n",
       "      <td>NaN</td>\n",
       "      <td>4000000</td>\n",
       "    </tr>\n",
       "    <tr>\n",
       "      <th>3</th>\n",
       "      <td>NaN</td>\n",
       "      <td>NaN</td>\n",
       "      <td>Ransomware</td>\n",
       "      <td>third party apps</td>\n",
       "      <td>NaN</td>\n",
       "      <td>500000</td>\n",
       "    </tr>\n",
       "    <tr>\n",
       "      <th>4</th>\n",
       "      <td>NaN</td>\n",
       "      <td>NaN</td>\n",
       "      <td>Ransomware</td>\n",
       "      <td>third party apps</td>\n",
       "      <td>NaN</td>\n",
       "      <td>unknown</td>\n",
       "    </tr>\n",
       "  </tbody>\n",
       "</table>\n",
       "</div>"
      ],
      "text/plain": [
       "   Date of Breach  State Method of Breach             Cause  \\\n",
       "0             NaN    NaN       Ransomware  third party apps   \n",
       "1             NaN    NaN       Ransomware  third party apps   \n",
       "2             NaN    NaN       Ransomware  third party apps   \n",
       "3             NaN    NaN       Ransomware  third party apps   \n",
       "4             NaN    NaN       Ransomware  third party apps   \n",
       "\n",
       "   Affected Industry Number of Affected  \n",
       "0                NaN             770760  \n",
       "1                NaN             150000  \n",
       "2                NaN            4000000  \n",
       "3                NaN             500000  \n",
       "4                NaN            unknown  "
      ]
     },
     "execution_count": 8,
     "metadata": {},
     "output_type": "execute_result"
    }
   ],
   "source": [
    "df6.head()"
   ]
  },
  {
   "cell_type": "code",
   "execution_count": 9,
   "metadata": {},
   "outputs": [
    {
     "data": {
      "text/html": [
       "<div>\n",
       "<style scoped>\n",
       "    .dataframe tbody tr th:only-of-type {\n",
       "        vertical-align: middle;\n",
       "    }\n",
       "\n",
       "    .dataframe tbody tr th {\n",
       "        vertical-align: top;\n",
       "    }\n",
       "\n",
       "    .dataframe thead th {\n",
       "        text-align: right;\n",
       "    }\n",
       "</style>\n",
       "<table border=\"1\" class=\"dataframe\">\n",
       "  <thead>\n",
       "    <tr style=\"text-align: right;\">\n",
       "      <th></th>\n",
       "      <th>Date of Breach</th>\n",
       "      <th>State</th>\n",
       "      <th>Method of Breach</th>\n",
       "      <th>Cause</th>\n",
       "      <th>Affected Industry</th>\n",
       "      <th>Number of Affected</th>\n",
       "    </tr>\n",
       "  </thead>\n",
       "  <tbody>\n",
       "    <tr>\n",
       "      <th>0</th>\n",
       "      <td>NaN</td>\n",
       "      <td>NaN</td>\n",
       "      <td>SQL Injection</td>\n",
       "      <td>loopholes</td>\n",
       "      <td>NaN</td>\n",
       "      <td>180000</td>\n",
       "    </tr>\n",
       "    <tr>\n",
       "      <th>1</th>\n",
       "      <td>NaN</td>\n",
       "      <td>NaN</td>\n",
       "      <td>SQL Injection</td>\n",
       "      <td>loopholes</td>\n",
       "      <td>NaN</td>\n",
       "      <td>500000</td>\n",
       "    </tr>\n",
       "    <tr>\n",
       "      <th>2</th>\n",
       "      <td>NaN</td>\n",
       "      <td>NaN</td>\n",
       "      <td>SQL Injection</td>\n",
       "      <td>loopholes</td>\n",
       "      <td>NaN</td>\n",
       "      <td>5000</td>\n",
       "    </tr>\n",
       "    <tr>\n",
       "      <th>3</th>\n",
       "      <td>NaN</td>\n",
       "      <td>NaN</td>\n",
       "      <td>SQL Injection</td>\n",
       "      <td>loopholes</td>\n",
       "      <td>NaN</td>\n",
       "      <td>9600</td>\n",
       "    </tr>\n",
       "    <tr>\n",
       "      <th>4</th>\n",
       "      <td>NaN</td>\n",
       "      <td>NaN</td>\n",
       "      <td>SQL Injection</td>\n",
       "      <td>loopholes</td>\n",
       "      <td>NaN</td>\n",
       "      <td>61709</td>\n",
       "    </tr>\n",
       "  </tbody>\n",
       "</table>\n",
       "</div>"
      ],
      "text/plain": [
       "   Date of Breach  State Method of Breach      Cause  Affected Industry  \\\n",
       "0             NaN    NaN   SQL Injection   loopholes                NaN   \n",
       "1             NaN    NaN   SQL Injection   loopholes                NaN   \n",
       "2             NaN    NaN   SQL Injection   loopholes                NaN   \n",
       "3             NaN    NaN   SQL Injection   loopholes                NaN   \n",
       "4             NaN    NaN   SQL Injection   loopholes                NaN   \n",
       "\n",
       "  Number of Affected  \n",
       "0             180000  \n",
       "1             500000  \n",
       "2               5000  \n",
       "3               9600  \n",
       "4              61709  "
      ]
     },
     "execution_count": 9,
     "metadata": {},
     "output_type": "execute_result"
    }
   ],
   "source": [
    "df7.head()"
   ]
  },
  {
   "cell_type": "code",
   "execution_count": 10,
   "metadata": {},
   "outputs": [
    {
     "data": {
      "text/html": [
       "<div>\n",
       "<style scoped>\n",
       "    .dataframe tbody tr th:only-of-type {\n",
       "        vertical-align: middle;\n",
       "    }\n",
       "\n",
       "    .dataframe tbody tr th {\n",
       "        vertical-align: top;\n",
       "    }\n",
       "\n",
       "    .dataframe thead th {\n",
       "        text-align: right;\n",
       "    }\n",
       "</style>\n",
       "<table border=\"1\" class=\"dataframe\">\n",
       "  <thead>\n",
       "    <tr style=\"text-align: right;\">\n",
       "      <th></th>\n",
       "      <th>Date of Breach</th>\n",
       "      <th>State</th>\n",
       "      <th>Method</th>\n",
       "      <th>Cause</th>\n",
       "      <th>Affected Industry</th>\n",
       "      <th>Number of Records</th>\n",
       "    </tr>\n",
       "  </thead>\n",
       "  <tbody>\n",
       "    <tr>\n",
       "      <th>0</th>\n",
       "      <td>12/15/2014</td>\n",
       "      <td>IL</td>\n",
       "      <td>Unknown</td>\n",
       "      <td>vulnerability</td>\n",
       "      <td>health</td>\n",
       "      <td>160000</td>\n",
       "    </tr>\n",
       "    <tr>\n",
       "      <th>1</th>\n",
       "      <td>2014-08-12 00:00:00</td>\n",
       "      <td>FL</td>\n",
       "      <td>Unknown</td>\n",
       "      <td>vulnerability</td>\n",
       "      <td>health</td>\n",
       "      <td>2477</td>\n",
       "    </tr>\n",
       "    <tr>\n",
       "      <th>2</th>\n",
       "      <td>11/20/2014</td>\n",
       "      <td>NY</td>\n",
       "      <td>Unknown</td>\n",
       "      <td>vulnerability</td>\n",
       "      <td>health</td>\n",
       "      <td>31980</td>\n",
       "    </tr>\n",
       "    <tr>\n",
       "      <th>3</th>\n",
       "      <td>11/14/2014</td>\n",
       "      <td>AZ</td>\n",
       "      <td>Unknown</td>\n",
       "      <td>vulnerability</td>\n",
       "      <td>health</td>\n",
       "      <td>1296</td>\n",
       "    </tr>\n",
       "    <tr>\n",
       "      <th>4</th>\n",
       "      <td>09/17/2014</td>\n",
       "      <td>IL</td>\n",
       "      <td>Unknown</td>\n",
       "      <td>vulnerability</td>\n",
       "      <td>health</td>\n",
       "      <td>767</td>\n",
       "    </tr>\n",
       "  </tbody>\n",
       "</table>\n",
       "</div>"
      ],
      "text/plain": [
       "        Date of Breach State   Method          Cause Affected Industry  \\\n",
       "0           12/15/2014    IL  Unknown  vulnerability            health   \n",
       "1  2014-08-12 00:00:00    FL  Unknown  vulnerability            health   \n",
       "2           11/20/2014    NY  Unknown  vulnerability            health   \n",
       "3           11/14/2014    AZ  Unknown  vulnerability            health   \n",
       "4           09/17/2014    IL  Unknown  vulnerability            health   \n",
       "\n",
       "   Number of Records  \n",
       "0             160000  \n",
       "1               2477  \n",
       "2              31980  \n",
       "3               1296  \n",
       "4                767  "
      ]
     },
     "execution_count": 10,
     "metadata": {},
     "output_type": "execute_result"
    }
   ],
   "source": [
    "df8.head()"
   ]
  },
  {
   "cell_type": "code",
   "execution_count": 11,
   "metadata": {},
   "outputs": [
    {
     "data": {
      "text/html": [
       "<div>\n",
       "<style scoped>\n",
       "    .dataframe tbody tr th:only-of-type {\n",
       "        vertical-align: middle;\n",
       "    }\n",
       "\n",
       "    .dataframe tbody tr th {\n",
       "        vertical-align: top;\n",
       "    }\n",
       "\n",
       "    .dataframe thead th {\n",
       "        text-align: right;\n",
       "    }\n",
       "</style>\n",
       "<table border=\"1\" class=\"dataframe\">\n",
       "  <thead>\n",
       "    <tr style=\"text-align: right;\">\n",
       "      <th></th>\n",
       "      <th>Date</th>\n",
       "      <th>State</th>\n",
       "      <th>Method</th>\n",
       "      <th>Cause</th>\n",
       "      <th>Affected_Industry</th>\n",
       "      <th>Number_of_Records</th>\n",
       "    </tr>\n",
       "  </thead>\n",
       "  <tbody>\n",
       "    <tr>\n",
       "      <th>0</th>\n",
       "      <td>2009-08-12 00:00:00</td>\n",
       "      <td>VA</td>\n",
       "      <td>0</td>\n",
       "      <td>vulnerability</td>\n",
       "      <td>health</td>\n",
       "      <td>83000.0</td>\n",
       "    </tr>\n",
       "    <tr>\n",
       "      <th>1</th>\n",
       "      <td>2009-10-12 00:00:00</td>\n",
       "      <td>CA</td>\n",
       "      <td>Hacking</td>\n",
       "      <td>vulnerability</td>\n",
       "      <td>business</td>\n",
       "      <td>596.0</td>\n",
       "    </tr>\n",
       "    <tr>\n",
       "      <th>2</th>\n",
       "      <td>2009-11-12 00:00:00</td>\n",
       "      <td>NC</td>\n",
       "      <td>Hacking</td>\n",
       "      <td>vulnerability</td>\n",
       "      <td>health</td>\n",
       "      <td>2000.0</td>\n",
       "    </tr>\n",
       "    <tr>\n",
       "      <th>3</th>\n",
       "      <td>2010-01-03 00:00:00</td>\n",
       "      <td>FL</td>\n",
       "      <td>Hacking</td>\n",
       "      <td>vulnerability</td>\n",
       "      <td>health</td>\n",
       "      <td>12580.0</td>\n",
       "    </tr>\n",
       "    <tr>\n",
       "      <th>4</th>\n",
       "      <td>2010-01-04 00:00:00</td>\n",
       "      <td>AZ</td>\n",
       "      <td>Hacking</td>\n",
       "      <td>vulnerability</td>\n",
       "      <td>health</td>\n",
       "      <td>2773.0</td>\n",
       "    </tr>\n",
       "  </tbody>\n",
       "</table>\n",
       "</div>"
      ],
      "text/plain": [
       "                  Date State   Method          Cause Affected_Industry  \\\n",
       "0  2009-08-12 00:00:00    VA        0  vulnerability            health   \n",
       "1  2009-10-12 00:00:00    CA  Hacking  vulnerability          business   \n",
       "2  2009-11-12 00:00:00    NC  Hacking  vulnerability            health   \n",
       "3  2010-01-03 00:00:00    FL  Hacking  vulnerability            health   \n",
       "4  2010-01-04 00:00:00    AZ  Hacking  vulnerability            health   \n",
       "\n",
       "   Number_of_Records  \n",
       "0            83000.0  \n",
       "1              596.0  \n",
       "2             2000.0  \n",
       "3            12580.0  \n",
       "4             2773.0  "
      ]
     },
     "execution_count": 11,
     "metadata": {},
     "output_type": "execute_result"
    }
   ],
   "source": [
    "main_data.head()"
   ]
  },
  {
   "cell_type": "code",
   "execution_count": 12,
   "metadata": {},
   "outputs": [],
   "source": [
    "import seaborn as sns\n",
    "import matplotlib.pyplot as plt \n",
    "%matplotlib inline"
   ]
  },
  {
   "cell_type": "code",
   "execution_count": 13,
   "metadata": {},
   "outputs": [
    {
     "data": {
      "text/plain": [
       "<AxesSubplot:>"
      ]
     },
     "execution_count": 13,
     "metadata": {},
     "output_type": "execute_result"
    },
    {
     "data": {
      "image/png": "[encoded data removed]",
      "text/plain": [
       "<Figure size 864x360 with 1 Axes>"
      ]
     },
     "metadata": {},
     "output_type": "display_data"
    }
   ],
   "source": [
    "main_data.Cause.value_counts().plot(kind='bar', color='blue', figsize=(12,5))"
   ]
  },
  {
   "cell_type": "code",
   "execution_count": 14,
   "metadata": {},
   "outputs": [
    {
     "data": {
      "text/plain": [
       "<AxesSubplot:>"
      ]
     },
     "execution_count": 14,
     "metadata": {},
     "output_type": "execute_result"
    },
    {
     "data": {
      "image/png": "[encoded data removed]",
      "text/plain": [
       "<Figure size 720x360 with 1 Axes>"
      ]
     },
     "metadata": {},
     "output_type": "display_data"
    }
   ],
   "source": [
    "main_data.Method.value_counts().plot(kind='bar', color='olive', figsize=(10,5))"
   ]
  },
  {
   "cell_type": "code",
   "execution_count": 15,
   "metadata": {},
   "outputs": [
    {
     "data": {
      "text/plain": [
       "<AxesSubplot:>"
      ]
     },
     "execution_count": 15,
     "metadata": {},
     "output_type": "execute_result"
    },
    {
     "data": {
      "image/png": "[encoded data removed]",
      "text/plain": [
       "<Figure size 720x360 with 1 Axes>"
      ]
     },
     "metadata": {},
     "output_type": "display_data"
    }
   ],
   "source": [
    "main_data.State.value_counts().plot(kind='bar', color='olive', figsize=(10,5))"
   ]
  },
  {
   "cell_type": "code",
   "execution_count": 16,
   "metadata": {},
   "outputs": [
    {
     "data": {
      "text/plain": [
       "<AxesSubplot:title={'center':'Most Frequent Targeted Organization'}>"
      ]
     },
     "execution_count": 16,
     "metadata": {},
     "output_type": "execute_result"
    },
    {
     "data": {
      "image/png": "[encoded data removed]",
      "text/plain": [
       "<Figure size 720x360 with 1 Axes>"
      ]
     },
     "metadata": {},
     "output_type": "display_data"
    }
   ],
   "source": [
    "main_data.Affected_Industry.value_counts().plot(kind='bar', title='Most Frequent Targeted Organization', color='olive', figsize=(10,5))"
   ]
  },
  {
   "cell_type": "code",
   "execution_count": 17,
   "metadata": {},
   "outputs": [
    {
     "data": {
      "text/html": [
       "<div>\n",
       "<style scoped>\n",
       "    .dataframe tbody tr th:only-of-type {\n",
       "        vertical-align: middle;\n",
       "    }\n",
       "\n",
       "    .dataframe tbody tr th {\n",
       "        vertical-align: top;\n",
       "    }\n",
       "\n",
       "    .dataframe thead th {\n",
       "        text-align: right;\n",
       "    }\n",
       "</style>\n",
       "<table border=\"1\" class=\"dataframe\">\n",
       "  <thead>\n",
       "    <tr style=\"text-align: right;\">\n",
       "      <th></th>\n",
       "      <th>Date of Breach</th>\n",
       "      <th>Date of Report</th>\n",
       "      <th>Source</th>\n",
       "      <th>Affected_Facilities</th>\n",
       "      <th>Description_of_Breach</th>\n",
       "      <th>Method_of_Breach</th>\n",
       "      <th>Cause</th>\n",
       "      <th>Affectee</th>\n",
       "      <th>Number_of_Affected</th>\n",
       "      <th>Damage_on_affected</th>\n",
       "      <th>...</th>\n",
       "      <th>Unnamed: 16</th>\n",
       "      <th>Unnamed: 17</th>\n",
       "      <th>Unnamed: 18</th>\n",
       "      <th>Unnamed: 19</th>\n",
       "      <th>Unnamed: 20</th>\n",
       "      <th>Unnamed: 21</th>\n",
       "      <th>Unnamed: 22</th>\n",
       "      <th>Unnamed: 23</th>\n",
       "      <th>Unnamed: 24</th>\n",
       "      <th>Unnamed: 25</th>\n",
       "    </tr>\n",
       "  </thead>\n",
       "  <tbody>\n",
       "    <tr>\n",
       "      <th>0</th>\n",
       "      <td>2000-01-01</td>\n",
       "      <td>2000-01-01 00:00:00</td>\n",
       "      <td>USAT</td>\n",
       "      <td>CD Universe</td>\n",
       "      <td>access to credit cards</td>\n",
       "      <td>Physical</td>\n",
       "      <td>intrusion</td>\n",
       "      <td>customers</td>\n",
       "      <td>300000</td>\n",
       "      <td>credit card numbers</td>\n",
       "      <td>...</td>\n",
       "      <td>NaN</td>\n",
       "      <td>NaN</td>\n",
       "      <td>NaN</td>\n",
       "      <td>NaN</td>\n",
       "      <td>NaN</td>\n",
       "      <td>NaN</td>\n",
       "      <td>NaN</td>\n",
       "      <td>NaN</td>\n",
       "      <td>NaN</td>\n",
       "      <td>NaN</td>\n",
       "    </tr>\n",
       "    <tr>\n",
       "      <th>1</th>\n",
       "      <td>2000-01-01</td>\n",
       "      <td>2000-01-01 00:00:00</td>\n",
       "      <td>USAT</td>\n",
       "      <td>Pacific Bell</td>\n",
       "      <td>stolen passwords</td>\n",
       "      <td>Hacking</td>\n",
       "      <td>vulnerability</td>\n",
       "      <td>subscribers</td>\n",
       "      <td>393000</td>\n",
       "      <td>passwords</td>\n",
       "      <td>...</td>\n",
       "      <td>NaN</td>\n",
       "      <td>NaN</td>\n",
       "      <td>NaN</td>\n",
       "      <td>NaN</td>\n",
       "      <td>NaN</td>\n",
       "      <td>NaN</td>\n",
       "      <td>NaN</td>\n",
       "      <td>NaN</td>\n",
       "      <td>NaN</td>\n",
       "      <td>NaN</td>\n",
       "    </tr>\n",
       "    <tr>\n",
       "      <th>2</th>\n",
       "      <td>2000-03-01</td>\n",
       "      <td>2000-03-01 00:00:00</td>\n",
       "      <td>USAT</td>\n",
       "      <td>E-commerce websites</td>\n",
       "      <td>website breached</td>\n",
       "      <td>Hacking</td>\n",
       "      <td>vulnerability</td>\n",
       "      <td>customers</td>\n",
       "      <td>26000</td>\n",
       "      <td>credit card numbers</td>\n",
       "      <td>...</td>\n",
       "      <td>NaN</td>\n",
       "      <td>NaN</td>\n",
       "      <td>NaN</td>\n",
       "      <td>NaN</td>\n",
       "      <td>NaN</td>\n",
       "      <td>NaN</td>\n",
       "      <td>NaN</td>\n",
       "      <td>NaN</td>\n",
       "      <td>NaN</td>\n",
       "      <td>NaN</td>\n",
       "    </tr>\n",
       "    <tr>\n",
       "      <th>3</th>\n",
       "      <td>2000-06-01</td>\n",
       "      <td>2000-06-01 00:00:00</td>\n",
       "      <td>USAT</td>\n",
       "      <td>america online</td>\n",
       "      <td>access to credit cards</td>\n",
       "      <td>Phishing</td>\n",
       "      <td>intrusion</td>\n",
       "      <td>customers</td>\n",
       "      <td>500</td>\n",
       "      <td>credit card numbers</td>\n",
       "      <td>...</td>\n",
       "      <td>NaN</td>\n",
       "      <td>NaN</td>\n",
       "      <td>NaN</td>\n",
       "      <td>NaN</td>\n",
       "      <td>NaN</td>\n",
       "      <td>NaN</td>\n",
       "      <td>NaN</td>\n",
       "      <td>NaN</td>\n",
       "      <td>NaN</td>\n",
       "      <td>NaN</td>\n",
       "    </tr>\n",
       "    <tr>\n",
       "      <th>4</th>\n",
       "      <td>2000-09-01</td>\n",
       "      <td>2000-09-01 00:00:00</td>\n",
       "      <td>USAT</td>\n",
       "      <td>Western union</td>\n",
       "      <td>credit card information</td>\n",
       "      <td>Hacking</td>\n",
       "      <td>vulnerability</td>\n",
       "      <td>customers</td>\n",
       "      <td>15700</td>\n",
       "      <td>credit card numbers</td>\n",
       "      <td>...</td>\n",
       "      <td>NaN</td>\n",
       "      <td>NaN</td>\n",
       "      <td>NaN</td>\n",
       "      <td>NaN</td>\n",
       "      <td>NaN</td>\n",
       "      <td>NaN</td>\n",
       "      <td>NaN</td>\n",
       "      <td>NaN</td>\n",
       "      <td>NaN</td>\n",
       "      <td>NaN</td>\n",
       "    </tr>\n",
       "  </tbody>\n",
       "</table>\n",
       "<p>5 rows × 26 columns</p>\n",
       "</div>"
      ],
      "text/plain": [
       "  Date of Breach       Date of Report Source  Affected_Facilities  \\\n",
       "0     2000-01-01  2000-01-01 00:00:00   USAT          CD Universe   \n",
       "1     2000-01-01  2000-01-01 00:00:00   USAT         Pacific Bell   \n",
       "2     2000-03-01  2000-03-01 00:00:00   USAT  E-commerce websites   \n",
       "3     2000-06-01  2000-06-01 00:00:00   USAT       america online   \n",
       "4     2000-09-01  2000-09-01 00:00:00   USAT        Western union   \n",
       "\n",
       "     Description_of_Breach Method_of_Breach          Cause     Affectee  \\\n",
       "0   access to credit cards        Physical       intrusion    customers   \n",
       "1         stolen passwords          Hacking  vulnerability  subscribers   \n",
       "2         website breached          Hacking  vulnerability    customers   \n",
       "3   access to credit cards         Phishing      intrusion    customers   \n",
       "4  credit card information          Hacking  vulnerability    customers   \n",
       "\n",
       "  Number_of_Affected   Damage_on_affected  ... Unnamed: 16 Unnamed: 17  \\\n",
       "0             300000  credit card numbers  ...         NaN         NaN   \n",
       "1             393000            passwords  ...         NaN         NaN   \n",
       "2              26000  credit card numbers  ...         NaN         NaN   \n",
       "3                500  credit card numbers  ...         NaN         NaN   \n",
       "4              15700  credit card numbers  ...         NaN         NaN   \n",
       "\n",
       "  Unnamed: 18 Unnamed: 19  Unnamed: 20  Unnamed: 21  Unnamed: 22  Unnamed: 23  \\\n",
       "0         NaN         NaN          NaN          NaN          NaN          NaN   \n",
       "1         NaN         NaN          NaN          NaN          NaN          NaN   \n",
       "2         NaN         NaN          NaN          NaN          NaN          NaN   \n",
       "3         NaN         NaN          NaN          NaN          NaN          NaN   \n",
       "4         NaN         NaN          NaN          NaN          NaN          NaN   \n",
       "\n",
       "  Unnamed: 24 Unnamed: 25  \n",
       "0         NaN         NaN  \n",
       "1         NaN         NaN  \n",
       "2         NaN         NaN  \n",
       "3         NaN         NaN  \n",
       "4         NaN         NaN  \n",
       "\n",
       "[5 rows x 26 columns]"
      ]
     },
     "execution_count": 17,
     "metadata": {},
     "output_type": "execute_result"
    }
   ],
   "source": [
    "sheet_one.head()"
   ]
  },
  {
   "cell_type": "code",
   "execution_count": 18,
   "metadata": {},
   "outputs": [
    {
     "data": {
      "text/plain": [
       "<AxesSubplot:title={'center':'Method of Breach'}>"
      ]
     },
     "execution_count": 18,
     "metadata": {},
     "output_type": "execute_result"
    },
    {
     "data": {
      "image/png": "[encoded data removed]",
      "text/plain": [
       "<Figure size 864x360 with 1 Axes>"
      ]
     },
     "metadata": {},
     "output_type": "display_data"
    }
   ],
   "source": [
    "sheet_one.Method_of_Breach.value_counts().plot(kind='bar', title='Method of Breach', color='blue', figsize=(12,5))"
   ]
  },
  {
   "cell_type": "code",
   "execution_count": 19,
   "metadata": {},
   "outputs": [],
   "source": [
    "from dateutil.parser import parse \n",
    "import matplotlib as mpl\n",
    "import matplotlib.pyplot as plt\n",
    "import seaborn as sns"
   ]
  },
  {
   "cell_type": "code",
   "execution_count": 20,
   "metadata": {},
   "outputs": [
    {
     "data": {
      "image/png": "[encoded data removed]",
      "text/plain": [
       "<Figure size 1600x500 with 1 Axes>"
      ]
     },
     "metadata": {},
     "output_type": "display_data"
    }
   ],
   "source": [
    "# Draw Plot\n",
    "def plot_df(main_data, x, y, title=\"\", xlabel='Date', ylabel='Number of Records', dpi=100):\n",
    "    plt.figure(figsize=(16,5), dpi=dpi)\n",
    "    plt.plot(x, y, color='tab:red')\n",
    "    plt.gca().set(title=title, xlabel=xlabel, ylabel=ylabel)\n",
    "    plt.show()\n",
    "\n",
    "plot_df(main_data, x=main_data.index, y=main_data.Number_of_Records, title='Monthly Data Breach Incident.')    "
   ]
  },
  {
   "cell_type": "code",
   "execution_count": 21,
   "metadata": {},
   "outputs": [],
   "source": [
    "import matplotlib.pyplot as plt\n",
    "import numpy as np\n",
    "from sklearn.linear_model import LogisticRegression\n",
    "from sklearn.metrics import classification_report, confusion_matrix"
   ]
  },
  {
   "cell_type": "code",
   "execution_count": 22,
   "metadata": {},
   "outputs": [
    {
     "data": {
      "text/plain": [
       "Index(['Cause', 'Date', 'Method', 'State'], dtype='object')"
      ]
     },
     "execution_count": 22,
     "metadata": {},
     "output_type": "execute_result"
    }
   ],
   "source": [
    "num_col = main_data.select_dtypes(include='number').columns\n",
    "\n",
    "# selecting categorical data attributes\n",
    "cat_col = main_data.columns.difference(num_col)\n",
    "cat_col = cat_col[1:]\n",
    "cat_col"
   ]
  },
  {
   "cell_type": "code",
   "execution_count": 23,
   "metadata": {},
   "outputs": [
    {
     "data": {
      "text/html": [
       "<div>\n",
       "<style scoped>\n",
       "    .dataframe tbody tr th:only-of-type {\n",
       "        vertical-align: middle;\n",
       "    }\n",
       "\n",
       "    .dataframe tbody tr th {\n",
       "        vertical-align: top;\n",
       "    }\n",
       "\n",
       "    .dataframe thead th {\n",
       "        text-align: right;\n",
       "    }\n",
       "</style>\n",
       "<table border=\"1\" class=\"dataframe\">\n",
       "  <thead>\n",
       "    <tr style=\"text-align: right;\">\n",
       "      <th></th>\n",
       "      <th>Cause</th>\n",
       "      <th>Date</th>\n",
       "      <th>Method</th>\n",
       "      <th>State</th>\n",
       "    </tr>\n",
       "  </thead>\n",
       "  <tbody>\n",
       "    <tr>\n",
       "      <th>0</th>\n",
       "      <td>vulnerability</td>\n",
       "      <td>2009-08-12 00:00:00</td>\n",
       "      <td>0</td>\n",
       "      <td>VA</td>\n",
       "    </tr>\n",
       "    <tr>\n",
       "      <th>1</th>\n",
       "      <td>vulnerability</td>\n",
       "      <td>2009-10-12 00:00:00</td>\n",
       "      <td>Hacking</td>\n",
       "      <td>CA</td>\n",
       "    </tr>\n",
       "    <tr>\n",
       "      <th>2</th>\n",
       "      <td>vulnerability</td>\n",
       "      <td>2009-11-12 00:00:00</td>\n",
       "      <td>Hacking</td>\n",
       "      <td>NC</td>\n",
       "    </tr>\n",
       "    <tr>\n",
       "      <th>3</th>\n",
       "      <td>vulnerability</td>\n",
       "      <td>2010-01-03 00:00:00</td>\n",
       "      <td>Hacking</td>\n",
       "      <td>FL</td>\n",
       "    </tr>\n",
       "    <tr>\n",
       "      <th>4</th>\n",
       "      <td>vulnerability</td>\n",
       "      <td>2010-01-04 00:00:00</td>\n",
       "      <td>Hacking</td>\n",
       "      <td>AZ</td>\n",
       "    </tr>\n",
       "  </tbody>\n",
       "</table>\n",
       "</div>"
      ],
      "text/plain": [
       "           Cause                 Date   Method State\n",
       "0  vulnerability  2009-08-12 00:00:00        0    VA\n",
       "1  vulnerability  2009-10-12 00:00:00  Hacking    CA\n",
       "2  vulnerability  2009-11-12 00:00:00  Hacking    NC\n",
       "3  vulnerability  2010-01-03 00:00:00  Hacking    FL\n",
       "4  vulnerability  2010-01-04 00:00:00  Hacking    AZ"
      ]
     },
     "execution_count": 23,
     "metadata": {},
     "output_type": "execute_result"
    }
   ],
   "source": [
    "# creating a dataframe with only categorical attributes\n",
    "data_cat = main_data[cat_col].copy()\n",
    "data_cat.head()"
   ]
  },
  {
   "cell_type": "code",
   "execution_count": 24,
   "metadata": {},
   "outputs": [],
   "source": [
    "data_cat = pd.get_dummies(data_cat,columns=cat_col)"
   ]
  },
  {
   "cell_type": "code",
   "execution_count": 25,
   "metadata": {},
   "outputs": [
    {
     "data": {
      "text/html": [
       "<div>\n",
       "<style scoped>\n",
       "    .dataframe tbody tr th:only-of-type {\n",
       "        vertical-align: middle;\n",
       "    }\n",
       "\n",
       "    .dataframe tbody tr th {\n",
       "        vertical-align: top;\n",
       "    }\n",
       "\n",
       "    .dataframe thead th {\n",
       "        text-align: right;\n",
       "    }\n",
       "</style>\n",
       "<table border=\"1\" class=\"dataframe\">\n",
       "  <thead>\n",
       "    <tr style=\"text-align: right;\">\n",
       "      <th></th>\n",
       "      <th>Cause_0</th>\n",
       "      <th>Cause_Disclosure</th>\n",
       "      <th>Cause_Disposal</th>\n",
       "      <th>Cause_Disposal, Disclosure</th>\n",
       "      <th>Cause_Exposure</th>\n",
       "      <th>Cause_Exposure, 0</th>\n",
       "      <th>Cause_Exposure, Disclosure</th>\n",
       "      <th>Cause_Exposure, vulnerability</th>\n",
       "      <th>Cause_IT Incident</th>\n",
       "      <th>Cause_IT Incident, vulnerability</th>\n",
       "      <th>...</th>\n",
       "      <th>State_TN</th>\n",
       "      <th>State_TX</th>\n",
       "      <th>State_US</th>\n",
       "      <th>State_UT</th>\n",
       "      <th>State_VA</th>\n",
       "      <th>State_VT</th>\n",
       "      <th>State_WA</th>\n",
       "      <th>State_WI</th>\n",
       "      <th>State_WV</th>\n",
       "      <th>State_WY</th>\n",
       "    </tr>\n",
       "  </thead>\n",
       "  <tbody>\n",
       "    <tr>\n",
       "      <th>0</th>\n",
       "      <td>0</td>\n",
       "      <td>0</td>\n",
       "      <td>0</td>\n",
       "      <td>0</td>\n",
       "      <td>0</td>\n",
       "      <td>0</td>\n",
       "      <td>0</td>\n",
       "      <td>0</td>\n",
       "      <td>0</td>\n",
       "      <td>0</td>\n",
       "      <td>...</td>\n",
       "      <td>0</td>\n",
       "      <td>0</td>\n",
       "      <td>0</td>\n",
       "      <td>0</td>\n",
       "      <td>1</td>\n",
       "      <td>0</td>\n",
       "      <td>0</td>\n",
       "      <td>0</td>\n",
       "      <td>0</td>\n",
       "      <td>0</td>\n",
       "    </tr>\n",
       "    <tr>\n",
       "      <th>1</th>\n",
       "      <td>0</td>\n",
       "      <td>0</td>\n",
       "      <td>0</td>\n",
       "      <td>0</td>\n",
       "      <td>0</td>\n",
       "      <td>0</td>\n",
       "      <td>0</td>\n",
       "      <td>0</td>\n",
       "      <td>0</td>\n",
       "      <td>0</td>\n",
       "      <td>...</td>\n",
       "      <td>0</td>\n",
       "      <td>0</td>\n",
       "      <td>0</td>\n",
       "      <td>0</td>\n",
       "      <td>0</td>\n",
       "      <td>0</td>\n",
       "      <td>0</td>\n",
       "      <td>0</td>\n",
       "      <td>0</td>\n",
       "      <td>0</td>\n",
       "    </tr>\n",
       "    <tr>\n",
       "      <th>2</th>\n",
       "      <td>0</td>\n",
       "      <td>0</td>\n",
       "      <td>0</td>\n",
       "      <td>0</td>\n",
       "      <td>0</td>\n",
       "      <td>0</td>\n",
       "      <td>0</td>\n",
       "      <td>0</td>\n",
       "      <td>0</td>\n",
       "      <td>0</td>\n",
       "      <td>...</td>\n",
       "      <td>0</td>\n",
       "      <td>0</td>\n",
       "      <td>0</td>\n",
       "      <td>0</td>\n",
       "      <td>0</td>\n",
       "      <td>0</td>\n",
       "      <td>0</td>\n",
       "      <td>0</td>\n",
       "      <td>0</td>\n",
       "      <td>0</td>\n",
       "    </tr>\n",
       "    <tr>\n",
       "      <th>3</th>\n",
       "      <td>0</td>\n",
       "      <td>0</td>\n",
       "      <td>0</td>\n",
       "      <td>0</td>\n",
       "      <td>0</td>\n",
       "      <td>0</td>\n",
       "      <td>0</td>\n",
       "      <td>0</td>\n",
       "      <td>0</td>\n",
       "      <td>0</td>\n",
       "      <td>...</td>\n",
       "      <td>0</td>\n",
       "      <td>0</td>\n",
       "      <td>0</td>\n",
       "      <td>0</td>\n",
       "      <td>0</td>\n",
       "      <td>0</td>\n",
       "      <td>0</td>\n",
       "      <td>0</td>\n",
       "      <td>0</td>\n",
       "      <td>0</td>\n",
       "    </tr>\n",
       "    <tr>\n",
       "      <th>4</th>\n",
       "      <td>0</td>\n",
       "      <td>0</td>\n",
       "      <td>0</td>\n",
       "      <td>0</td>\n",
       "      <td>0</td>\n",
       "      <td>0</td>\n",
       "      <td>0</td>\n",
       "      <td>0</td>\n",
       "      <td>0</td>\n",
       "      <td>0</td>\n",
       "      <td>...</td>\n",
       "      <td>0</td>\n",
       "      <td>0</td>\n",
       "      <td>0</td>\n",
       "      <td>0</td>\n",
       "      <td>0</td>\n",
       "      <td>0</td>\n",
       "      <td>0</td>\n",
       "      <td>0</td>\n",
       "      <td>0</td>\n",
       "      <td>0</td>\n",
       "    </tr>\n",
       "  </tbody>\n",
       "</table>\n",
       "<p>5 rows × 2124 columns</p>\n",
       "</div>"
      ],
      "text/plain": [
       "   Cause_0  Cause_Disclosure  Cause_Disposal  Cause_Disposal, Disclosure  \\\n",
       "0        0                 0               0                           0   \n",
       "1        0                 0               0                           0   \n",
       "2        0                 0               0                           0   \n",
       "3        0                 0               0                           0   \n",
       "4        0                 0               0                           0   \n",
       "\n",
       "   Cause_Exposure  Cause_Exposure, 0  Cause_Exposure, Disclosure  \\\n",
       "0               0                  0                           0   \n",
       "1               0                  0                           0   \n",
       "2               0                  0                           0   \n",
       "3               0                  0                           0   \n",
       "4               0                  0                           0   \n",
       "\n",
       "   Cause_Exposure, vulnerability  Cause_IT Incident  \\\n",
       "0                              0                  0   \n",
       "1                              0                  0   \n",
       "2                              0                  0   \n",
       "3                              0                  0   \n",
       "4                              0                  0   \n",
       "\n",
       "   Cause_IT Incident, vulnerability  ...  State_TN  State_TX  State_US  \\\n",
       "0                                 0  ...         0         0         0   \n",
       "1                                 0  ...         0         0         0   \n",
       "2                                 0  ...         0         0         0   \n",
       "3                                 0  ...         0         0         0   \n",
       "4                                 0  ...         0         0         0   \n",
       "\n",
       "   State_UT  State_VA  State_VT  State_WA  State_WI  State_WV  State_WY  \n",
       "0         0         1         0         0         0         0         0  \n",
       "1         0         0         0         0         0         0         0  \n",
       "2         0         0         0         0         0         0         0  \n",
       "3         0         0         0         0         0         0         0  \n",
       "4         0         0         0         0         0         0         0  \n",
       "\n",
       "[5 rows x 2124 columns]"
      ]
     },
     "execution_count": 25,
     "metadata": {},
     "output_type": "execute_result"
    }
   ],
   "source": [
    "data_cat.head()"
   ]
  },
  {
   "cell_type": "code",
   "execution_count": 26,
   "metadata": {},
   "outputs": [],
   "source": [
    "main_data.drop(columns=cat_col,inplace=True)"
   ]
  },
  {
   "cell_type": "code",
   "execution_count": 27,
   "metadata": {},
   "outputs": [
    {
     "data": {
      "text/plain": [
       "(4126, 2)"
      ]
     },
     "execution_count": 27,
     "metadata": {},
     "output_type": "execute_result"
    }
   ],
   "source": [
    "main_data.shape"
   ]
  },
  {
   "cell_type": "code",
   "execution_count": 28,
   "metadata": {},
   "outputs": [
    {
     "name": "stdout",
     "output_type": "stream",
     "text": [
      "[]\n"
     ]
    }
   ],
   "source": [
    "# selecting numeric attributes columns from data\n",
    "num_col = list(main_data.select_dtypes(include='number').columns)\n",
    "num_col.remove('Number_of_Records')\n",
    "print(num_col)"
   ]
  },
  {
   "cell_type": "code",
   "execution_count": 29,
   "metadata": {},
   "outputs": [],
   "source": [
    "# using minmax scaler for normalizing data\n",
    "from sklearn.preprocessing import MinMaxScaler\n",
    "from sklearn.preprocessing import StandardScaler\n",
    "from sklearn.preprocessing import LabelEncoder\n",
    "minmax_scale = MinMaxScaler(feature_range=(0, 1))\n",
    "def normalization(df,col):\n",
    "    for i in col:\n",
    "        arr = df[i]\n",
    "        arr = np.array(arr)\n",
    "        df[i] = minmax_scale.fit_transform(arr.reshape(len(arr),1))\n",
    "    return df"
   ]
  },
  {
   "cell_type": "code",
   "execution_count": 30,
   "metadata": {},
   "outputs": [
    {
     "data": {
      "text/html": [
       "<div>\n",
       "<style scoped>\n",
       "    .dataframe tbody tr th:only-of-type {\n",
       "        vertical-align: middle;\n",
       "    }\n",
       "\n",
       "    .dataframe tbody tr th {\n",
       "        vertical-align: top;\n",
       "    }\n",
       "\n",
       "    .dataframe thead th {\n",
       "        text-align: right;\n",
       "    }\n",
       "</style>\n",
       "<table border=\"1\" class=\"dataframe\">\n",
       "  <thead>\n",
       "    <tr style=\"text-align: right;\">\n",
       "      <th></th>\n",
       "      <th>Affected_Industry</th>\n",
       "      <th>Number_of_Records</th>\n",
       "    </tr>\n",
       "  </thead>\n",
       "  <tbody>\n",
       "    <tr>\n",
       "      <th>0</th>\n",
       "      <td>health</td>\n",
       "      <td>83000.0</td>\n",
       "    </tr>\n",
       "    <tr>\n",
       "      <th>1</th>\n",
       "      <td>business</td>\n",
       "      <td>596.0</td>\n",
       "    </tr>\n",
       "    <tr>\n",
       "      <th>2</th>\n",
       "      <td>health</td>\n",
       "      <td>2000.0</td>\n",
       "    </tr>\n",
       "    <tr>\n",
       "      <th>3</th>\n",
       "      <td>health</td>\n",
       "      <td>12580.0</td>\n",
       "    </tr>\n",
       "    <tr>\n",
       "      <th>4</th>\n",
       "      <td>health</td>\n",
       "      <td>2773.0</td>\n",
       "    </tr>\n",
       "  </tbody>\n",
       "</table>\n",
       "</div>"
      ],
      "text/plain": [
       "  Affected_Industry  Number_of_Records\n",
       "0            health            83000.0\n",
       "1          business              596.0\n",
       "2            health             2000.0\n",
       "3            health            12580.0\n",
       "4            health             2773.0"
      ]
     },
     "execution_count": 30,
     "metadata": {},
     "output_type": "execute_result"
    }
   ],
   "source": [
    "main_data.head()"
   ]
  },
  {
   "cell_type": "code",
   "execution_count": 31,
   "metadata": {},
   "outputs": [],
   "source": [
    "# calling normalization() function\n",
    "main_data = normalization(main_data.copy(),num_col)"
   ]
  },
  {
   "cell_type": "code",
   "execution_count": 32,
   "metadata": {},
   "outputs": [
    {
     "data": {
      "text/html": [
       "<div>\n",
       "<style scoped>\n",
       "    .dataframe tbody tr th:only-of-type {\n",
       "        vertical-align: middle;\n",
       "    }\n",
       "\n",
       "    .dataframe tbody tr th {\n",
       "        vertical-align: top;\n",
       "    }\n",
       "\n",
       "    .dataframe thead th {\n",
       "        text-align: right;\n",
       "    }\n",
       "</style>\n",
       "<table border=\"1\" class=\"dataframe\">\n",
       "  <thead>\n",
       "    <tr style=\"text-align: right;\">\n",
       "      <th></th>\n",
       "      <th>Affected_Industry</th>\n",
       "      <th>Number_of_Records</th>\n",
       "    </tr>\n",
       "  </thead>\n",
       "  <tbody>\n",
       "    <tr>\n",
       "      <th>0</th>\n",
       "      <td>health</td>\n",
       "      <td>83000.0</td>\n",
       "    </tr>\n",
       "    <tr>\n",
       "      <th>1</th>\n",
       "      <td>business</td>\n",
       "      <td>596.0</td>\n",
       "    </tr>\n",
       "    <tr>\n",
       "      <th>2</th>\n",
       "      <td>health</td>\n",
       "      <td>2000.0</td>\n",
       "    </tr>\n",
       "    <tr>\n",
       "      <th>3</th>\n",
       "      <td>health</td>\n",
       "      <td>12580.0</td>\n",
       "    </tr>\n",
       "    <tr>\n",
       "      <th>4</th>\n",
       "      <td>health</td>\n",
       "      <td>2773.0</td>\n",
       "    </tr>\n",
       "  </tbody>\n",
       "</table>\n",
       "</div>"
      ],
      "text/plain": [
       "  Affected_Industry  Number_of_Records\n",
       "0            health            83000.0\n",
       "1          business              596.0\n",
       "2            health             2000.0\n",
       "3            health            12580.0\n",
       "4            health             2773.0"
      ]
     },
     "execution_count": 32,
     "metadata": {},
     "output_type": "execute_result"
    }
   ],
   "source": [
    "main_data.head()"
   ]
  },
  {
   "cell_type": "code",
   "execution_count": 33,
   "metadata": {},
   "outputs": [],
   "source": [
    "# changing attack labels into two categories 'normal' and 'abnormal'\n",
    "bin_label = pd.DataFrame(main_data.Affected_Industry.map(lambda x:'health' if x==0 else 'business'))"
   ]
  },
  {
   "cell_type": "code",
   "execution_count": 34,
   "metadata": {},
   "outputs": [],
   "source": [
    "# creating a dataframe with binary labels (normal,abnormal)\n",
    "bin_data = main_data.copy()\n",
    "bin_data['Affected_Industry'] = bin_label"
   ]
  },
  {
   "cell_type": "code",
   "execution_count": 35,
   "metadata": {},
   "outputs": [],
   "source": [
    "from sklearn import metrics\n",
    "from sklearn import preprocessing\n",
    "from sklearn.metrics import accuracy_score\n",
    "from sklearn.model_selection import train_test_split \n",
    "from sklearn.metrics import classification_report\n",
    "\n",
    "from sklearn.svm import SVC\n",
    "from sklearn.linear_model import LinearRegression\n",
    "from sklearn.linear_model import LogisticRegression\n",
    "from sklearn.tree import DecisionTreeClassifier\n",
    "from sklearn.ensemble import RandomForestClassifier\n",
    "from sklearn.neighbors import KNeighborsClassifier\n",
    "from sklearn.neural_network import MLPClassifier\n",
    "# label encoding (0,1) binary labels\n",
    "le1 = preprocessing.LabelEncoder()\n",
    "enc_label = bin_label.apply(le1.fit_transform)\n",
    "bin_data['Affected_Industry'] = enc_label"
   ]
  },
  {
   "cell_type": "code",
   "execution_count": 36,
   "metadata": {},
   "outputs": [
    {
     "data": {
      "text/plain": [
       "array(['business'], dtype=object)"
      ]
     },
     "execution_count": 36,
     "metadata": {},
     "output_type": "execute_result"
    }
   ],
   "source": [
    "le1.classes_"
   ]
  },
  {
   "cell_type": "code",
   "execution_count": 37,
   "metadata": {},
   "outputs": [],
   "source": [
    "np.save(\"le1_classes.npy\",le1.classes_,allow_pickle=True)"
   ]
  },
  {
   "cell_type": "code",
   "execution_count": 38,
   "metadata": {},
   "outputs": [],
   "source": [
    "# one-hot-encoding attack label\n",
    "multi_data = main_data.copy()\n",
    "multi_label = pd.DataFrame(multi_data.Affected_Industry)"
   ]
  },
  {
   "cell_type": "code",
   "execution_count": 39,
   "metadata": {},
   "outputs": [],
   "source": [
    "multi_data = pd.get_dummies(multi_data,columns=['Affected_Industry'])"
   ]
  },
  {
   "cell_type": "code",
   "execution_count": 40,
   "metadata": {},
   "outputs": [
    {
     "name": "stdout",
     "output_type": "stream",
     "text": [
      "  Affected_Industry  Number_of_Records\n",
      "0            health            83000.0\n",
      "1          business              596.0\n",
      "2            health             2000.0\n",
      "3            health            12580.0\n",
      "4            health             2773.0\n"
     ]
    }
   ],
   "source": [
    "le2 = LabelEncoder()#use this encoder to encod\n",
    "enc_label = le2.fit_transform(multi_data['Number_of_Records'].values)\n",
    "print(main_data.head())"
   ]
  },
  {
   "cell_type": "code",
   "execution_count": 41,
   "metadata": {},
   "outputs": [
    {
     "data": {
      "text/plain": [
       "array([0.00e+00, 7.00e+00, 5.00e+01, ..., 7.88e+07, 1.00e+08,      nan])"
      ]
     },
     "execution_count": 41,
     "metadata": {},
     "output_type": "execute_result"
    }
   ],
   "source": [
    "le2.classes_"
   ]
  },
  {
   "cell_type": "code",
   "execution_count": 42,
   "metadata": {},
   "outputs": [],
   "source": [
    "np.save(\"le2_classes.npy\",le2.classes_,allow_pickle=True)"
   ]
  },
  {
   "cell_type": "code",
   "execution_count": 43,
   "metadata": {},
   "outputs": [],
   "source": [
    "num_col.append('Number_of_Records')"
   ]
  },
  {
   "cell_type": "code",
   "execution_count": 44,
   "metadata": {},
   "outputs": [
    {
     "data": {
      "image/png": "[encoded data removed]",
      "text/plain": [
       "<Figure size 1440x576 with 2 Axes>"
      ]
     },
     "metadata": {},
     "output_type": "display_data"
    }
   ],
   "source": [
    "# Correlation Matrix for Binary Labels\n",
    "plt.figure(figsize=(20,8))\n",
    "corr_bin = bin_data[num_col].corr()\n",
    "sns.heatmap(corr_bin,vmax=1.0,annot=False)\n",
    "plt.title('Correlation Matrix for Binary Labels',fontsize=16)\n",
    "plt.show()"
   ]
  },
  {
   "cell_type": "code",
   "execution_count": 45,
   "metadata": {},
   "outputs": [],
   "source": [
    "num_col = list(multi_data.select_dtypes(include='number').columns)"
   ]
  },
  {
   "cell_type": "code",
   "execution_count": 46,
   "metadata": {},
   "outputs": [
    {
     "data": {
      "image/png": "[encoded data removed]",
      "text/plain": [
       "<Figure size 1440x576 with 2 Axes>"
      ]
     },
     "metadata": {},
     "output_type": "display_data"
    }
   ],
   "source": [
    "# Correlation Matrix for Multi-class Labels\n",
    "plt.figure(figsize=(20,8))\n",
    "corr_multi = multi_data[num_col].corr()\n",
    "sns.heatmap(corr_multi,vmax=1.0,annot=False)\n",
    "plt.title('Correlation Matrix for Multi Labels',fontsize=16)\n",
    "plt.show()"
   ]
  },
  {
   "cell_type": "code",
   "execution_count": 47,
   "metadata": {},
   "outputs": [
    {
     "data": {
      "text/plain": [
       "Number_of_Records    1.0\n",
       "Name: Number_of_Records, dtype: float64"
      ]
     },
     "execution_count": 47,
     "metadata": {},
     "output_type": "execute_result"
    }
   ],
   "source": [
    "# finding the attributes which have more than 0.3 correlation with encoded attack label attribute \n",
    "corr_ybin = abs(corr_bin['Number_of_Records'])\n",
    "highest_corr_bin = corr_ybin[corr_ybin >0.3]\n",
    "highest_corr_bin.sort_values(ascending=True)"
   ]
  },
  {
   "cell_type": "code",
   "execution_count": 48,
   "metadata": {},
   "outputs": [
    {
     "data": {
      "text/plain": [
       "Index(['Number_of_Records'], dtype='object')"
      ]
     },
     "execution_count": 48,
     "metadata": {},
     "output_type": "execute_result"
    }
   ],
   "source": [
    "# selecting attributes found by using pearson correlation coefficient\n",
    "bin_cols = highest_corr_bin.index\n",
    "bin_cols"
   ]
  },
  {
   "cell_type": "code",
   "execution_count": 49,
   "metadata": {},
   "outputs": [
    {
     "data": {
      "text/html": [
       "<div>\n",
       "<style scoped>\n",
       "    .dataframe tbody tr th:only-of-type {\n",
       "        vertical-align: middle;\n",
       "    }\n",
       "\n",
       "    .dataframe tbody tr th {\n",
       "        vertical-align: top;\n",
       "    }\n",
       "\n",
       "    .dataframe thead th {\n",
       "        text-align: right;\n",
       "    }\n",
       "</style>\n",
       "<table border=\"1\" class=\"dataframe\">\n",
       "  <thead>\n",
       "    <tr style=\"text-align: right;\">\n",
       "      <th></th>\n",
       "      <th>Number_of_Records</th>\n",
       "    </tr>\n",
       "  </thead>\n",
       "  <tbody>\n",
       "    <tr>\n",
       "      <th>0</th>\n",
       "      <td>83000.0</td>\n",
       "    </tr>\n",
       "    <tr>\n",
       "      <th>1</th>\n",
       "      <td>596.0</td>\n",
       "    </tr>\n",
       "    <tr>\n",
       "      <th>2</th>\n",
       "      <td>2000.0</td>\n",
       "    </tr>\n",
       "    <tr>\n",
       "      <th>3</th>\n",
       "      <td>12580.0</td>\n",
       "    </tr>\n",
       "    <tr>\n",
       "      <th>4</th>\n",
       "      <td>2773.0</td>\n",
       "    </tr>\n",
       "    <tr>\n",
       "      <th>...</th>\n",
       "      <td>...</td>\n",
       "    </tr>\n",
       "    <tr>\n",
       "      <th>4121</th>\n",
       "      <td>622.0</td>\n",
       "    </tr>\n",
       "    <tr>\n",
       "      <th>4122</th>\n",
       "      <td>500.0</td>\n",
       "    </tr>\n",
       "    <tr>\n",
       "      <th>4123</th>\n",
       "      <td>48000.0</td>\n",
       "    </tr>\n",
       "    <tr>\n",
       "      <th>4124</th>\n",
       "      <td>3290.0</td>\n",
       "    </tr>\n",
       "    <tr>\n",
       "      <th>4125</th>\n",
       "      <td>19557.0</td>\n",
       "    </tr>\n",
       "  </tbody>\n",
       "</table>\n",
       "<p>4126 rows × 1 columns</p>\n",
       "</div>"
      ],
      "text/plain": [
       "      Number_of_Records\n",
       "0               83000.0\n",
       "1                 596.0\n",
       "2                2000.0\n",
       "3               12580.0\n",
       "4                2773.0\n",
       "...                 ...\n",
       "4121              622.0\n",
       "4122              500.0\n",
       "4123            48000.0\n",
       "4124             3290.0\n",
       "4125            19557.0\n",
       "\n",
       "[4126 rows x 1 columns]"
      ]
     },
     "execution_count": 49,
     "metadata": {},
     "output_type": "execute_result"
    }
   ],
   "source": [
    "# Binary labelled Dataset\n",
    "bin_data = bin_data[bin_cols].copy()\n",
    "bin_data"
   ]
  },
  {
   "cell_type": "code",
   "execution_count": 50,
   "metadata": {},
   "outputs": [],
   "source": [
    "bin_data.to_csv('/users/guembeblessing/downloads/bin_data.csv')"
   ]
  },
  {
   "cell_type": "code",
   "execution_count": 51,
   "metadata": {},
   "outputs": [
    {
     "data": {
      "text/plain": [
       "Number_of_Records    1.0\n",
       "Name: Number_of_Records, dtype: float64"
      ]
     },
     "execution_count": 51,
     "metadata": {},
     "output_type": "execute_result"
    }
   ],
   "source": [
    "corr_ymulti = abs(corr_multi['Number_of_Records'])\n",
    "highest_corr_multi = corr_ymulti[corr_ymulti >0.3]\n",
    "highest_corr_multi.sort_values(ascending=True)"
   ]
  },
  {
   "cell_type": "code",
   "execution_count": 52,
   "metadata": {},
   "outputs": [
    {
     "data": {
      "text/plain": [
       "Index(['Number_of_Records'], dtype='object')"
      ]
     },
     "execution_count": 52,
     "metadata": {},
     "output_type": "execute_result"
    }
   ],
   "source": [
    "# selecting attributes found by using pearson correlation coefficient\n",
    "multi_cols = highest_corr_multi.index\n",
    "multi_cols"
   ]
  },
  {
   "cell_type": "code",
   "execution_count": 53,
   "metadata": {},
   "outputs": [],
   "source": [
    "# Multi-class labelled Dataset\n",
    "multi_data = multi_data[multi_cols].copy()"
   ]
  },
  {
   "cell_type": "code",
   "execution_count": 54,
   "metadata": {},
   "outputs": [],
   "source": [
    "multi_data.to_csv('/users/guembeblessing/downloads/multi_data.csv')"
   ]
  },
  {
   "cell_type": "code",
   "execution_count": 55,
   "metadata": {},
   "outputs": [
    {
     "data": {
      "text/html": [
       "<div>\n",
       "<style scoped>\n",
       "    .dataframe tbody tr th:only-of-type {\n",
       "        vertical-align: middle;\n",
       "    }\n",
       "\n",
       "    .dataframe tbody tr th {\n",
       "        vertical-align: top;\n",
       "    }\n",
       "\n",
       "    .dataframe thead th {\n",
       "        text-align: right;\n",
       "    }\n",
       "</style>\n",
       "<table border=\"1\" class=\"dataframe\">\n",
       "  <thead>\n",
       "    <tr style=\"text-align: right;\">\n",
       "      <th></th>\n",
       "      <th>Affected_Industry</th>\n",
       "    </tr>\n",
       "  </thead>\n",
       "  <tbody>\n",
       "    <tr>\n",
       "      <th>0</th>\n",
       "      <td>0</td>\n",
       "    </tr>\n",
       "    <tr>\n",
       "      <th>1</th>\n",
       "      <td>1</td>\n",
       "    </tr>\n",
       "  </tbody>\n",
       "</table>\n",
       "</div>"
      ],
      "text/plain": [
       "   Affected_Industry\n",
       "0                  0\n",
       "1                  1"
      ]
     },
     "execution_count": 55,
     "metadata": {},
     "output_type": "execute_result"
    }
   ],
   "source": [
    "main_data = pd.DataFrame({'Affected_Industry':[0,1]})\n",
    "main_data"
   ]
  },
  {
   "cell_type": "code",
   "execution_count": 56,
   "metadata": {},
   "outputs": [],
   "source": [
    "X = main_data.iloc[:, 0:1].values\n",
    "Y = main_data.iloc[:, 0].values"
   ]
  },
  {
   "cell_type": "code",
   "execution_count": 57,
   "metadata": {},
   "outputs": [],
   "source": [
    "X_train,X_test,y_train,y_test = train_test_split(X, Y, test_size=0.30, random_state=50)"
   ]
  },
  {
   "cell_type": "code",
   "execution_count": 58,
   "metadata": {},
   "outputs": [
    {
     "data": {
      "text/plain": [
       "array([[0]])"
      ]
     },
     "execution_count": 58,
     "metadata": {},
     "output_type": "execute_result"
    }
   ],
   "source": [
    "X_train"
   ]
  },
  {
   "cell_type": "code",
   "execution_count": 59,
   "metadata": {},
   "outputs": [
    {
     "data": {
      "text/plain": [
       "array([[1]])"
      ]
     },
     "execution_count": 59,
     "metadata": {},
     "output_type": "execute_result"
    }
   ],
   "source": [
    "X_test"
   ]
  },
  {
   "cell_type": "code",
   "execution_count": 60,
   "metadata": {},
   "outputs": [
    {
     "data": {
      "text/plain": [
       "array([0])"
      ]
     },
     "execution_count": 60,
     "metadata": {},
     "output_type": "execute_result"
    }
   ],
   "source": [
    "y_train"
   ]
  },
  {
   "cell_type": "code",
   "execution_count": 61,
   "metadata": {},
   "outputs": [
    {
     "data": {
      "text/plain": [
       "LinearRegression(copy_X=True, fit_intercept=True, n_jobs=None, normalize=True)"
      ]
     },
     "execution_count": 61,
     "metadata": {},
     "output_type": "execute_result"
    }
   ],
   "source": [
    "lr_bin = LinearRegression(normalize=True)\n",
    "lr_bin.fit(X_train, y_train)"
   ]
  },
  {
   "cell_type": "code",
   "execution_count": 62,
   "metadata": {},
   "outputs": [],
   "source": [
    "y_pred = lr_bin.predict(X_test)"
   ]
  },
  {
   "cell_type": "code",
   "execution_count": 63,
   "metadata": {},
   "outputs": [],
   "source": [
    "round = lambda x:1 if x>0.6 else 0\n",
    "vfunc = np.vectorize(round)\n",
    "y_pred = vfunc(y_pred)"
   ]
  }
 ],
 "metadata": {
  "kernelspec": {
   "display_name": "Python 3",
   "language": "python",
   "name": "python3"
  },
  "language_info": {
   "codemirror_mode": {
    "name": "ipython",
    "version": 3
   },
   "file_extension": ".py",
   "mimetype": "text/x-python",
   "name": "python",
   "nbconvert_exporter": "python",
   "pygments_lexer": "ipython3",
   "version": "3.6.8"
  }
 },
 "nbformat": 4,
 "nbformat_minor": 2
}
